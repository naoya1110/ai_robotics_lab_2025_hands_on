{
  "nbformat": 4,
  "nbformat_minor": 0,
  "metadata": {
    "colab": {
      "provenance": [],
      "toc_visible": true,
      "gpuType": "T4",
      "authorship_tag": "ABX9TyMPOtdMlOxxAjsP46dML3es",
      "include_colab_link": true
    },
    "kernelspec": {
      "name": "python3",
      "display_name": "Python 3"
    },
    "language_info": {
      "name": "python"
    },
    "accelerator": "GPU"
  },
  "cells": [
    {
      "cell_type": "markdown",
      "metadata": {
        "id": "view-in-github",
        "colab_type": "text"
      },
      "source": [
        "<a href=\"https://colab.research.google.com/github/naoya1110/ai_robotics_lab_2025_hands_on/blob/main/Week06_Practical_Techniques_for_Training_CNN_Models.ipynb\" target=\"_parent\"><img src=\"https://colab.research.google.com/assets/colab-badge.svg\" alt=\"Open In Colab\"/></a>"
      ]
    },
    {
      "cell_type": "markdown",
      "metadata": {
        "id": "tPVcuaqFL670"
      },
      "source": [
        "# Practical Techniques for Training CNN Models"
      ]
    },
    {
      "cell_type": "markdown",
      "metadata": {
        "id": "vPlzxYAbJQmc"
      },
      "source": [
        "## Introduction"
      ]
    },
    {
      "cell_type": "markdown",
      "metadata": {
        "id": "NfXlnZElde0Z"
      },
      "source": [
        "In this notebook, we will learn about practical techniques for training convolutional neural network (CNN) models such as\n",
        "\n",
        "\n",
        "*   Data Standardization\n",
        "*   Data Augmentation\n",
        "*   Dropout Layer\n",
        "*   L1, L2 Regularization\n",
        "\n",
        "\n",
        "\n",
        " As we saw last week, deep neural network models can easily overfit. Therefore, we always have to be careful not to overfit our models during training. However, thanks to the intensive researches in this field, many practical techniques for avoiding overfitting have been discovered. In this notebook, we will implement some of these techniques and see how they work."
      ]
    },
    {
      "cell_type": "markdown",
      "metadata": {
        "id": "VYw3uTxyQMFq"
      },
      "source": [
        "### GPU\n",
        "\n",
        "We will use a GPU to train CNN models. Please make sure your runtime type is GPU (cuda)."
      ]
    },
    {
      "cell_type": "code",
      "metadata": {
        "id": "LlOLjP7qjakr"
      },
      "source": [
        "import torch\n",
        "\n",
        "if torch.cuda.is_available():\n",
        "    device = \"cuda\"\n",
        "else:\n",
        "    device = \"cpu\"\n",
        "\n",
        "print(device)"
      ],
      "execution_count": null,
      "outputs": []
    },
    {
      "cell_type": "code",
      "source": [
        "print(torch.cuda.get_device_name(0))\n",
        "print(torch.cuda.get_device_properties(0))"
      ],
      "metadata": {
        "id": "S0GcP4bqklBa"
      },
      "execution_count": null,
      "outputs": []
    },
    {
      "cell_type": "markdown",
      "metadata": {
        "id": "4r6qw_6s_hyU"
      },
      "source": [
        "### General Packages\n",
        "\n",
        "Let's import general Python packages."
      ]
    },
    {
      "cell_type": "code",
      "metadata": {
        "id": "uBE01BMv7DVI"
      },
      "source": [
        "import numpy as np\n",
        "import matplotlib.pyplot as plt\n",
        "import seaborn as sns\n",
        "from tqdm.notebook import tqdm"
      ],
      "execution_count": null,
      "outputs": []
    },
    {
      "cell_type": "markdown",
      "metadata": {
        "id": "ZX-bp6XjJSdL"
      },
      "source": [
        "## Data Preparation"
      ]
    },
    {
      "cell_type": "markdown",
      "metadata": {
        "id": "YKruW7wm7Dtg"
      },
      "source": [
        "### CIFAR10\n",
        "\n",
        "We will use CIFAR10 dataset again."
      ]
    },
    {
      "cell_type": "code",
      "metadata": {
        "id": "RP5pCP3GZX3k"
      },
      "source": [
        "from torchvision.datasets import CIFAR10\n",
        "\n",
        "train_dataset = CIFAR10(root=\"cifar10\", train=True, download=True)\n",
        "test_dataset = CIFAR10(root=\"cifar10\", train=False, download=True)\n",
        "\n",
        "classnames = {0:\"plane\",\n",
        "              1:\"car\",\n",
        "              2:\"bird\",\n",
        "              3:\"cat\",\n",
        "              4:\"deer\",\n",
        "              5:\"dog\",\n",
        "              6:\"frog\",\n",
        "              7:\"horse\",\n",
        "              8:\"ship\",\n",
        "              9:\"truck\"}"
      ],
      "execution_count": null,
      "outputs": []
    },
    {
      "cell_type": "markdown",
      "metadata": {
        "id": "gLiwE5Ea_Nil"
      },
      "source": [
        "### Data Standardization (aka. z-score normalization)\n",
        "\n",
        "Data rescaling is often used as a preprocessing step in data preparation. One of the data rescaling methods is standardization (aka. z-score normalization). A raw data $x_i$ will be converted to a standardized data $z_i$ by the equation below, where $\\mu$ and $\\sigma$ are mean and standard deviation of the raw dataset, respectively.\n",
        "\n",
        "$\\displaystyle z_i=\\dfrac{x_i-\\mu}{\\sigma}$\n",
        "\n",
        "After the standardization, the mean and the standard deviation of the rescaled dataset will be 0 and 1 respectively."
      ]
    },
    {
      "cell_type": "markdown",
      "metadata": {
        "id": "lJavoZVdedzb"
      },
      "source": [
        "![image.png](data:image/png;base64,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)"
      ]
    },
    {
      "cell_type": "markdown",
      "metadata": {
        "id": "likI2ZCCPPc5"
      },
      "source": [
        "In order to standardize CIFAR10 image data, we need to know the means $\\mu$ and the standard deviations $\\sigma$ of red, green, blue pixels in the raw dataset. To do this, we first collect all red, green and blue pixels data in NumPy arrays."
      ]
    },
    {
      "cell_type": "code",
      "metadata": {
        "id": "wYavpB4WILQS"
      },
      "source": [
        "red_pixels = []\n",
        "green_pixels = []\n",
        "blue_pixels = []\n",
        "\n",
        "for image, label in tqdm(train_dataset):\n",
        "    image = np.array(image)/255.        # normalize data from 0-255 to 0.0-1.0\n",
        "    image = image.astype(\"float32\")\n",
        "\n",
        "    red_pixels.append(image[:,:,0])     # take only red pixels\n",
        "    green_pixels.append(image[:,:,1])   # take only green pixels\n",
        "    blue_pixels.append(image[:,:,2])    # take only blue pixels\n",
        "\n",
        "# convert data to 1D array\n",
        "red_pixels = np.array(red_pixels).flatten()\n",
        "green_pixels = np.array(green_pixels).flatten()\n",
        "blue_pixels = np.array(blue_pixels).flatten()\n",
        "\n",
        "print(\"number of red pixels\", red_pixels.shape)\n",
        "print(\"number of green pixels\", green_pixels.shape)\n",
        "print(\"number of blue pixels\", blue_pixels.shape)"
      ],
      "execution_count": null,
      "outputs": []
    },
    {
      "cell_type": "markdown",
      "metadata": {
        "id": "G_lwc2CoRmdZ"
      },
      "source": [
        "Let's take a look at their distributions."
      ]
    },
    {
      "cell_type": "code",
      "metadata": {
        "id": "09319F9NLVUY"
      },
      "source": [
        "plt.figure(figsize=(5, 5))\n",
        "\n",
        "bins = np.arange(0, 1.01, 0.05)\n",
        "\n",
        "plt.subplot(3, 1, 1)\n",
        "plt.hist(red_pixels, bins=bins, color=\"r\", alpha=0.5)\n",
        "\n",
        "plt.subplot(3, 1, 2)\n",
        "plt.hist(green_pixels, bins=bins, color=\"g\", alpha=0.5)\n",
        "\n",
        "plt.subplot(3, 1, 3)\n",
        "plt.hist(blue_pixels, bins=bins, color=\"b\", alpha=0.5)"
      ],
      "execution_count": null,
      "outputs": []
    },
    {
      "cell_type": "markdown",
      "metadata": {
        "id": "mAQqNi4JRuX5"
      },
      "source": [
        "Now we can determine means of red, green and blue pixels."
      ]
    },
    {
      "cell_type": "code",
      "metadata": {
        "id": "oVzdkiXWJ2xK"
      },
      "source": [
        "means = (red_pixels.mean(), green_pixels.mean(), blue_pixels.mean())\n",
        "means"
      ],
      "execution_count": null,
      "outputs": []
    },
    {
      "cell_type": "markdown",
      "metadata": {
        "id": "hi-zNuRyR21A"
      },
      "source": [
        "Also standard deviations of red, green and blue pixels."
      ]
    },
    {
      "cell_type": "code",
      "metadata": {
        "id": "SVsVfhkCK3Ov"
      },
      "source": [
        "stds = (red_pixels.std(), green_pixels.std(), blue_pixels.std())\n",
        "stds"
      ],
      "execution_count": null,
      "outputs": []
    },
    {
      "cell_type": "markdown",
      "metadata": {
        "id": "jQ6C0P2KDHhE"
      },
      "source": [
        "Then we can standardize the raw dataset by using `means` and `stds` data, and see how the standardized dataset distributes."
      ]
    },
    {
      "cell_type": "code",
      "metadata": {
        "id": "eXO1x5twP2UF"
      },
      "source": [
        "# standardization\n",
        "red_pixels_z = (red_pixels-means[0])/stds[0]\n",
        "green_pixels_z = (green_pixels-means[1])/stds[1]\n",
        "blue_pixels_z = (blue_pixels-means[2])/stds[2]\n",
        "\n",
        "# visualize distributions\n",
        "plt.figure(figsize=(8, 3))\n",
        "\n",
        "bins=np.arange(-3,3.1,0.2)\n",
        "\n",
        "plt.subplot(2, 3, 1)\n",
        "plt.hist(red_pixels, bins=bins, color=\"r\", alpha=0.5)\n",
        "plt.ylabel(\"original\")\n",
        "\n",
        "plt.subplot(2, 3, 2)\n",
        "plt.hist(green_pixels, bins=bins, color=\"g\", alpha=0.5)\n",
        "\n",
        "plt.subplot(2, 3, 3)\n",
        "plt.hist(blue_pixels, bins=bins, color=\"b\", alpha=0.5)\n",
        "\n",
        "plt.subplot(2, 3, 4)\n",
        "plt.hist(red_pixels_z, bins=bins, color=\"r\", alpha=0.5)\n",
        "plt.ylabel(\"standardized\")\n",
        "\n",
        "plt.subplot(2, 3, 5)\n",
        "plt.hist(green_pixels_z, bins=bins, color=\"g\", alpha=0.5)\n",
        "\n",
        "plt.subplot(2, 3, 6)\n",
        "plt.hist(blue_pixels_z, bins=bins, color=\"b\", alpha=0.5)"
      ],
      "execution_count": null,
      "outputs": []
    },
    {
      "cell_type": "markdown",
      "metadata": {
        "id": "noFAUvTfXmFe"
      },
      "source": [
        "We will use the `means` and `stds` data later when we reload the CIFAR10 dataset with `torch.tensor` format."
      ]
    },
    {
      "cell_type": "markdown",
      "metadata": {
        "id": "hH_7MJz0cAlr"
      },
      "source": [
        "### Data Augmentation\n",
        "\n",
        "Another technique often used for preprocessing is data augmentation. Data augmentation is a very powerful technique for preventing overfitting, especially when number of training data is limited. In each training epoch, slightly modified copies of the images are generated from the original images. This is effective to prevent the model from just remembering the training data because the model will never see exactly the same data again. The data augmention can be implemented easily using `torchvision.transforms.v2` module.\n",
        "\n",
        "Here we take one image from training data and let's see how this image can be augmented."
      ]
    },
    {
      "cell_type": "code",
      "metadata": {
        "id": "XVWJPehLZ1ox"
      },
      "source": [
        "image, label = train_dataset[1]\n",
        "\n",
        "plt.figure(figsize=(2,2))\n",
        "plt.rcParams[\"font.size\"]=12\n",
        "plt.imshow(image)\n",
        "plt.title(classnames[label])\n",
        "\n",
        "x = image"
      ],
      "execution_count": null,
      "outputs": []
    },
    {
      "cell_type": "markdown",
      "metadata": {
        "id": "2G6BFbOKib7k"
      },
      "source": [
        "#### Random Horizontal Flip\n",
        "\n"
      ]
    },
    {
      "cell_type": "code",
      "metadata": {
        "id": "lU84qQFZWLrb"
      },
      "source": [
        "from torchvision.transforms import v2\n",
        "transform = v2.RandomHorizontalFlip(p=0.5)\n",
        "\n",
        "def show_transformed_images(transform, x):\n",
        "    plt.figure(figsize=(12, 2))\n",
        "    for i in range(6):\n",
        "        output_image = transform(x)\n",
        "        plt.subplot(1, 6, i+1)\n",
        "        plt.imshow(output_image)\n",
        "\n",
        "show_transformed_images(transform, x)"
      ],
      "execution_count": null,
      "outputs": []
    },
    {
      "cell_type": "markdown",
      "metadata": {
        "id": "EpdUF-oliirr"
      },
      "source": [
        "#### Random Vertical Flip"
      ]
    },
    {
      "cell_type": "code",
      "metadata": {
        "id": "tT6WZLh1XYvX"
      },
      "source": [
        "transform = v2.RandomVerticalFlip(p=0.5)\n",
        "\n",
        "show_transformed_images(transform, x)"
      ],
      "execution_count": null,
      "outputs": []
    },
    {
      "cell_type": "markdown",
      "metadata": {
        "id": "NXwOrPzhimkn"
      },
      "source": [
        "#### Random Roation"
      ]
    },
    {
      "cell_type": "code",
      "metadata": {
        "id": "qLfRInF6Vwwt"
      },
      "source": [
        "transform = v2.RandomRotation(degrees=45)\n",
        "\n",
        "show_transformed_images(transform, x)"
      ],
      "execution_count": null,
      "outputs": []
    },
    {
      "cell_type": "markdown",
      "metadata": {
        "id": "eN9BGOsAipyG"
      },
      "source": [
        "#### Random Perspective"
      ]
    },
    {
      "cell_type": "code",
      "metadata": {
        "id": "Fjsmc1SgYqDz"
      },
      "source": [
        "transform = v2.RandomPerspective(distortion_scale=0.3, p=0.5)\n",
        "\n",
        "show_transformed_images(transform, x)"
      ],
      "execution_count": null,
      "outputs": []
    },
    {
      "cell_type": "markdown",
      "metadata": {
        "id": "R__uA3j2tWch"
      },
      "source": [
        "#### Compose Transforms\n",
        "We can combine several different transoforms using `transform.Compose()`."
      ]
    },
    {
      "cell_type": "code",
      "metadata": {
        "id": "e3bgWFH5tE-h"
      },
      "source": [
        "transform = v2.Compose([\n",
        "                v2.RandomHorizontalFlip(p=0.5),\n",
        "                v2.RandomVerticalFlip(p=0.5),\n",
        "                v2.RandomRotation(degrees=30),\n",
        "                v2.RandomPerspective(distortion_scale=0.3, p=0.5)\n",
        "                ])\n",
        "\n",
        "show_transformed_images(transform, x)"
      ],
      "execution_count": null,
      "outputs": []
    },
    {
      "cell_type": "markdown",
      "metadata": {
        "id": "XAKdrX6BtnzL"
      },
      "source": [
        "There are lots of other transforms modules that can be used for data augmentation. Please refer the information below.\n",
        "\n",
        "`torchvision.transforms` https://pytorch.org/vision/stable/transforms.html"
      ]
    },
    {
      "cell_type": "markdown",
      "metadata": {
        "id": "-HjPSgjrkMG3"
      },
      "source": [
        "### Reload Data\n",
        "\n",
        "Now we reload CIFAR10 dataset in `torch.tensor` format. At the same time, we apply the data standardization and the data augmentation. The standardization should be applied for both of the train and the test data, but the data augmentation should be applied to the train data only."
      ]
    },
    {
      "cell_type": "code",
      "metadata": {
        "id": "rbkcR_cbdqwz"
      },
      "source": [
        "from torchvision.transforms import v2\n",
        "\n",
        "train_dataset = CIFAR10(root=\"cifar10\",\n",
        "                        train=True,\n",
        "                        download=False,\n",
        "                        transform=v2.Compose([\n",
        "                            v2.ToTensor(),               # convert to torch.tensor\n",
        "                            v2.Normalize(means, stds),   # standardization\n",
        "\n",
        "                            # data augmentation\n",
        "                            v2.RandomHorizontalFlip(p=0.5),\n",
        "                            # v2.RandomVerticalFlip(p=0.5),\n",
        "                            v2.RandomRotation(degrees=10),\n",
        "                            # v2.RandomPerspective(distortion_scale=0.3, p=0.5)\n",
        "                            ])\n",
        "                   )\n",
        "\n",
        "test_dataset = CIFAR10(root=\"cifar10\",\n",
        "                        train=False,\n",
        "                        download=False,\n",
        "                        transform=v2.Compose([\n",
        "                            v2.ToTensor(),                # convert to torch.tensor\n",
        "                            v2.Normalize(means, stds)     # standardization\n",
        "                            ])\n",
        "                   )"
      ],
      "execution_count": null,
      "outputs": []
    },
    {
      "cell_type": "markdown",
      "metadata": {
        "id": "irrugvHJ4yRb"
      },
      "source": [
        "### DataLoader\n",
        "\n",
        "Then we create `DataLoader` objects for feeding data to the model. This is exactly same as we did with Iris dataset."
      ]
    },
    {
      "cell_type": "code",
      "metadata": {
        "id": "11_M7Y70CrX2"
      },
      "source": [
        "from torch.utils.data import DataLoader\n",
        "\n",
        "train_loader = DataLoader(train_dataset, batch_size=200, shuffle=True)\n",
        "test_loader = DataLoader(test_dataset, batch_size=200, shuffle=False)"
      ],
      "execution_count": null,
      "outputs": []
    },
    {
      "cell_type": "markdown",
      "metadata": {
        "id": "Rfk-lz-g60Tc"
      },
      "source": [
        "That's it for data preparation!"
      ]
    },
    {
      "cell_type": "markdown",
      "metadata": {
        "id": "QhtajLTTNmSx"
      },
      "source": [
        "## Model Building"
      ]
    },
    {
      "cell_type": "markdown",
      "metadata": {
        "id": "xrHtrmLj65gs"
      },
      "source": [
        "### Design from Scratch\n",
        "\n",
        "Next step is to build a convolutional neural network (CNN) and load it to GPU. The model we define here is identical to what we used last week, except for the dropout layer in the classifier."
      ]
    },
    {
      "cell_type": "markdown",
      "source": [
        "![image.png](data:image/png;base64,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)"
      ],
      "metadata": {
        "id": "kTJqLVLPeQY9"
      }
    },
    {
      "cell_type": "code",
      "source": [
        "import torch.nn as nn\n",
        "\n",
        "# define a class named \"Model\"\n",
        "class Model(nn.Module):\n",
        "\n",
        "    # Constructor\n",
        "    def __init__(self):                 # do not change\n",
        "        super(Model, self).__init__()   # do not change\n",
        "\n",
        "        # define a network module named \"features\"\n",
        "        self.features = nn.Sequential(\n",
        "            nn.Conv2d(in_channels=3, out_channels=64, kernel_size=3, padding=1),\n",
        "            nn.ReLU(),\n",
        "            nn.MaxPool2d(kernel_size=2),\n",
        "            nn.Conv2d(in_channels=64, out_channels=64, kernel_size=3, padding=1),\n",
        "            nn.ReLU(),\n",
        "            nn.MaxPool2d(kernel_size=2),\n",
        "        )\n",
        "\n",
        "        # define a network module named \"junction\"\n",
        "        self.junction = nn.Sequential(\n",
        "            nn.AdaptiveAvgPool2d(output_size=(8, 8)),\n",
        "            nn.Flatten()\n",
        "        )\n",
        "\n",
        "        # define a network module named \"classifier\"\n",
        "        self.classifier = nn.Sequential(\n",
        "            nn.Linear(in_features=64*8*8, out_features=256),\n",
        "            nn.ReLU(),\n",
        "            nn.Dropout(p=0.3), # Dropout Layer\n",
        "            nn.Linear(in_features=256, out_features=10)\n",
        "        )\n",
        "\n",
        "    # Instance method\n",
        "    def forward(self, x):   # do not change\n",
        "        x = self.features(x)\n",
        "        x = self.junction(x)\n",
        "        x = self.classifier(x)\n",
        "        return x\n",
        "\n",
        "model = Model()    # construct an instance of the Model class\n",
        "print(model)"
      ],
      "metadata": {
        "id": "J3ENroT7ZliB"
      },
      "execution_count": null,
      "outputs": []
    },
    {
      "cell_type": "markdown",
      "metadata": {
        "id": "LBth8hitQSzd"
      },
      "source": [
        "#### Dropout Layer\n",
        "\n",
        "The dropout layer makes some of the neurons from previous layer to be 0 randomly with the probability of `p` during training. Since less information will propagete through the dropout layer, the model will be trained under more difficult situation. This will make the model more rubust."
      ]
    },
    {
      "cell_type": "markdown",
      "metadata": {
        "id": "LomzrjZEHHoC"
      },
      "source": [
        "![image.png](data:image/png;base64,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)"
      ]
    },
    {
      "cell_type": "markdown",
      "metadata": {
        "id": "Zx70tleP-boX"
      },
      "source": [
        "The dropout layer can be implemented with `nn.Dropout()`. The parameter `p` indicates the probabitlty of neurons to be 0 with a Bernoulli distribution. Also non-zero nodes will be scaled by a factor of 1/(1-p).\n",
        "\n",
        "`nn.Dropout()` https://pytorch.org/docs/stable/generated/torch.nn.Dropout.html"
      ]
    },
    {
      "cell_type": "code",
      "metadata": {
        "id": "UCCELpQe90C3"
      },
      "source": [
        "x = torch.ones(10)\n",
        "dropout = nn.Dropout(p=0.5)\n",
        "y = dropout(x)\n",
        "print(\"input\", x)\n",
        "print(\"output\", y)"
      ],
      "execution_count": null,
      "outputs": []
    },
    {
      "cell_type": "markdown",
      "metadata": {
        "id": "TdLLqTr2pLXx"
      },
      "source": [
        "#### torchinfo\n",
        "Let's see the model archtecture."
      ]
    },
    {
      "cell_type": "code",
      "metadata": {
        "id": "9rICJ-KOhQaS"
      },
      "source": [
        "! pip install torchinfo\n",
        "from torchinfo import summary\n",
        "\n",
        "for x_batch, _ in train_loader:\n",
        "    break\n",
        "\n",
        "input_shape = x_batch.shape\n",
        "print(input_shape)\n",
        "\n",
        "summary(model, input_shape)"
      ],
      "execution_count": null,
      "outputs": []
    },
    {
      "cell_type": "markdown",
      "metadata": {
        "id": "aAlXGXFDRsjw"
      },
      "source": [
        "## Training"
      ]
    },
    {
      "cell_type": "markdown",
      "metadata": {
        "id": "tXO7oPT_PKN4"
      },
      "source": [
        "### Loss Function\n",
        "\n",
        "We use the cross-entropy loss as the loss function since this is a classification task."
      ]
    },
    {
      "cell_type": "code",
      "metadata": {
        "id": "lU5T3gRuUHtQ"
      },
      "source": [
        "loss_func = nn.CrossEntropyLoss()"
      ],
      "execution_count": null,
      "outputs": []
    },
    {
      "cell_type": "markdown",
      "metadata": {
        "id": "52Qod7jdQusX"
      },
      "source": [
        "### Optimizer\n",
        "\n",
        "We use the Adam optimizer."
      ]
    },
    {
      "cell_type": "code",
      "metadata": {
        "id": "wZWtxHVoUL44"
      },
      "source": [
        "import torch.optim as optim\n",
        "\n",
        "optimizer = optim.Adam(model.parameters(), lr=1E-3)"
      ],
      "execution_count": null,
      "outputs": []
    },
    {
      "cell_type": "markdown",
      "source": [
        "### L1/L2 Regularization"
      ],
      "metadata": {
        "id": "ZcD2vT1zlaX2"
      }
    },
    {
      "cell_type": "markdown",
      "source": [
        "L1 and L2 regularizations are implemented by adding a parameter norm penalty $\\Omega$ to the loss value $\\mathrm{loss}_0$ that is determined by the loss function such as `nn.CrossEntropyLoss()` as shown below.\n",
        "\n",
        "$\\mathrm{loss} = \\mathrm{loss}_0 + \\alpha\\Omega$\n",
        "\n",
        "where $\\alpha$ is the relative contribution factor of $\\Omega$."
      ],
      "metadata": {
        "id": "ZyJw7HiUNAZg"
      }
    },
    {
      "cell_type": "markdown",
      "source": [
        "#### L2 Norm Penalty\n",
        "L2 norm penalty $\\Omega_{L2}$ is adding-up by cumulating the squared value of all weights in the model as shown below."
      ],
      "metadata": {
        "id": "WEFXm0ti705i"
      }
    },
    {
      "cell_type": "markdown",
      "source": [
        "$\\displaystyle \\Omega_{L2}=\\sum_i w_i^2$"
      ],
      "metadata": {
        "id": "aFaGey5SmpUw"
      }
    },
    {
      "cell_type": "code",
      "source": [
        "def get_l2_norm(model=model):\n",
        "    l2_norm = 0\n",
        "    for p in model.parameters():\n",
        "        l2_norm += p.pow(2).sum()\n",
        "    return l2_norm\n",
        "\n",
        "print(\"L2 Norm Penalty:\", get_l2_norm(model).item())"
      ],
      "metadata": {
        "id": "78hKeGH4oTbn"
      },
      "execution_count": null,
      "outputs": []
    },
    {
      "cell_type": "markdown",
      "source": [
        "#### L1 Regularization\n",
        "L1 norm penalty $\\Omega_{L1}$ is calculated by cumulating the absolute value of all weights in the model as shown below."
      ],
      "metadata": {
        "id": "ILK_ZGhg758K"
      }
    },
    {
      "cell_type": "markdown",
      "source": [
        "$\\displaystyle \\Omega_{L1}=\\sum_{i} |w_i|$"
      ],
      "metadata": {
        "id": "bmW5LjSx7Xrr"
      }
    },
    {
      "cell_type": "code",
      "source": [
        "def get_l1_norm(model=model):\n",
        "    l1_norm = 0\n",
        "    for p in model.parameters():\n",
        "        l1_norm += p.abs().sum()\n",
        "    return l1_norm\n",
        "\n",
        "print(\"L1 Norm Penalty:\", get_l1_norm(model).item())"
      ],
      "metadata": {
        "id": "cKMpDoQopAuV"
      },
      "execution_count": null,
      "outputs": []
    },
    {
      "cell_type": "markdown",
      "metadata": {
        "id": "c6AMP-RXDtor"
      },
      "source": [
        "### Save Model Parameters\n",
        "\n",
        "It is also a good idea to save the model parameters during the training so that we can load it later. We can do this with the code below."
      ]
    },
    {
      "cell_type": "code",
      "metadata": {
        "id": "2lpnstH7EU4z"
      },
      "source": [
        "model_path = \"my_model.pth\"\n",
        "torch.save(model.state_dict(), model_path)"
      ],
      "execution_count": null,
      "outputs": []
    },
    {
      "cell_type": "markdown",
      "metadata": {
        "id": "MCzH5589Rn-7"
      },
      "source": [
        "### Training Loop\n",
        "\n",
        "Now we can train the model.\n",
        "\n",
        "This time we save the model parameters after each epoch if the test accuracy is better than before. Then later we can load the best model.\n",
        "\n",
        "\n",
        "\n",
        "\n",
        "\n"
      ]
    },
    {
      "cell_type": "code",
      "metadata": {
        "id": "B9ONh4giaSQD"
      },
      "source": [
        "model = Model()\n",
        "model = model.to(device)                               # load model onto GPU\n",
        "\n",
        "loss_func = nn.CrossEntropyLoss()                      # set loss function\n",
        "optimizer = optim.Adam(model.parameters(), lr=1E-3)    # set optimizer\n",
        "epochs = 20\n",
        "\n",
        "best_model_path = 'best_model.pth'\n",
        "best_accuracy = 0.0\n",
        "\n",
        "# create empty lists for saving metrics during training\n",
        "train_loss_list = []\n",
        "train_accuracy_list = []\n",
        "test_loss_list = []\n",
        "test_accuracy_list = []\n",
        "\n",
        "for epoch in range(epochs):\n",
        "    print(\"-----------------------------\")\n",
        "    print(f\"Epoch {epoch+1}/{epochs}\")\n",
        "\n",
        "    # initialize metrics\n",
        "    train_correct_count = 0\n",
        "    train_accuracy = 0\n",
        "    train_loss = 0\n",
        "    test_correct_count = 0\n",
        "    test_accuracy = 0\n",
        "    test_loss = 0\n",
        "\n",
        "    #--- Training Phase ---#\n",
        "    model.train()    # set model to training mode\n",
        "\n",
        "    pbar = tqdm(train_loader)\n",
        "    pbar.set_description(\"Train\")\n",
        "\n",
        "    for x_batch, y_batch in pbar:      # take mini batch data from train_loader\n",
        "\n",
        "        x_batch = x_batch.to(device)     # load x_batch data on GPU\n",
        "        y_batch = y_batch.to(device)     # load y_batch data on GPU\n",
        "\n",
        "        optimizer.zero_grad()                  # reset gradients to 0\n",
        "        p_batch = model(x_batch)               # do prediction\n",
        "        loss = loss_func(p_batch, y_batch)     # measure loss\n",
        "\n",
        "        #--- L1/L2 regularizaiton ---#\n",
        "        # alpha = 0.001\n",
        "        # loss = loss + alpha * get_l2_norm(model)    # add L2 penalty\n",
        "        # loss = loss + alpha * get_l1_norm(model)  # add L1 penalty\n",
        "        #----------------------------#\n",
        "\n",
        "        loss.backward()                        # calculate gradients\n",
        "        optimizer.step()                       # update model parameters\n",
        "\n",
        "        train_loss += loss.item()                                # accumulate loss value\n",
        "        p_batch_label = torch.argmax(p_batch, dim=1)             # convert p_batch vector to p_batch_label\n",
        "        train_correct_count += (p_batch_label == y_batch).sum()  # count up number of correct predictions\n",
        "\n",
        "        pbar.set_postfix({\"accuracy\":f\"{(p_batch_label == y_batch).sum()/len(x_batch):.4f}\", \"loss\": f\"{loss.item():.4f}\"})\n",
        "    #----------------------#\n",
        "\n",
        "    #--- Evaluation Phase ---#\n",
        "    with torch.no_grad():   # disable autograd for saving memory usage\n",
        "        model.eval()        # set model to evaluation mode\n",
        "\n",
        "        pbar = tqdm(test_loader)\n",
        "        pbar.set_description(\"Test\")\n",
        "\n",
        "        for x_batch, y_batch in pbar:   # take mini batch data from test_loader\n",
        "\n",
        "            x_batch = x_batch.to(device)     # load x_batch data on GPU\n",
        "            y_batch = y_batch.to(device)     # load y_batch data on GPU\n",
        "\n",
        "            p_batch = model(x_batch)              # do prediction\n",
        "            loss = loss_func(p_batch, y_batch)    # measure loss\n",
        "\n",
        "            #--- L1/L2 regularizaiton ---#\n",
        "            # loss = loss + alpha * get_l2_norm(model)    # add L2 penalty\n",
        "            # loss = loss + alpha * get_l1_norm(model)  # add L1 penalty\n",
        "            #----------------------------#\n",
        "\n",
        "            test_loss += loss.item()                                # add up loss value\n",
        "\n",
        "            p_batch_label = torch.argmax(p_batch, dim=1)            # convert p_batch vector to p_batch_label\n",
        "            test_correct_count += (p_batch_label == y_batch).sum()  # count up number of correct predictions\n",
        "\n",
        "            pbar.set_postfix({\"accuracy\":f\"{(p_batch_label == y_batch).sum()/len(x_batch):.4f}\", \"loss\": f\"{loss.item():.4f}\"})\n",
        "    #------------------------#\n",
        "\n",
        "    train_accuracy = train_correct_count.item()/len(train_dataset)   # determine accuracy for training data\n",
        "    test_accuracy = test_correct_count.item()/len(test_dataset)      # determine accuracy for test data\n",
        "    train_loss = train_loss/len(train_loader)                 # determine loss for training data\n",
        "    test_loss = test_loss/len(test_loader)                    # determine loss for test data\n",
        "\n",
        "    # show and store metrics\n",
        "    print(f\"Train: Accuracy={train_accuracy:.3f} Loss={train_loss:.3f}, Test: Accuracy={test_accuracy:.3f} Loss={test_loss:.3f}\")\n",
        "    train_accuracy_list.append(train_accuracy)\n",
        "    train_loss_list.append(train_loss)\n",
        "    test_accuracy_list.append(test_accuracy)\n",
        "    test_loss_list.append(test_loss)\n",
        "\n",
        "    # save the model if test accuracy is better than before\n",
        "    if test_accuracy > best_accuracy:\n",
        "        torch.save(model.state_dict(), best_model_path)\n",
        "        print(f\"Test accuracy improved from {best_accuracy:.3f} to {test_accuracy:.3f}\")\n",
        "        print(f\"Model saved at {best_model_path}\")\n",
        "        best_accuracy = test_accuracy"
      ],
      "execution_count": null,
      "outputs": []
    },
    {
      "cell_type": "markdown",
      "metadata": {
        "id": "77tsvYTj_MjF"
      },
      "source": [
        "### Learning Curves\n",
        "\n",
        "Let's visualize the accuracy and the loss curves for train and test data."
      ]
    },
    {
      "cell_type": "code",
      "metadata": {
        "id": "r41u3qmIig-t"
      },
      "source": [
        "plt.figure(figsize=(5,3))\n",
        "plt.rcParams[\"font.size\"]=12\n",
        "plt.plot(np.arange(epochs)+1, train_accuracy_list, label=\"train\")\n",
        "plt.plot(np.arange(epochs)+1, test_accuracy_list, label=\"test\")\n",
        "plt.xlabel(\"Epoch\")\n",
        "plt.ylabel(\"Accuracy\")\n",
        "plt.grid()\n",
        "plt.legend()"
      ],
      "execution_count": null,
      "outputs": []
    },
    {
      "cell_type": "code",
      "metadata": {
        "id": "gEfROle1leF7"
      },
      "source": [
        "plt.figure(figsize=(5,3))\n",
        "plt.rcParams[\"font.size\"]=12\n",
        "plt.plot(np.arange(epochs)+1, train_loss_list, label=\"train\")\n",
        "plt.plot(np.arange(epochs)+1, test_loss_list, label=\"test\")\n",
        "plt.xlabel(\"Epoch\")\n",
        "plt.ylabel(\"Loss\")\n",
        "plt.grid()\n",
        "plt.legend()"
      ],
      "execution_count": null,
      "outputs": []
    },
    {
      "cell_type": "markdown",
      "metadata": {
        "id": "8eDR3R1BULUJ"
      },
      "source": [
        "As you see above, the test accuracy keeps increasing even after 10 epochs and is still higher than the train accuracy. Similarly the test loss keeps decreasing even after 10 epochs and still lower than the test loss. This is a sign of that the model is not overfitted yet. Therefore we can continue training the model further or we can use a larger model."
      ]
    },
    {
      "cell_type": "markdown",
      "metadata": {
        "id": "JXu1FpcD6fod"
      },
      "source": [
        "## Evaluation"
      ]
    },
    {
      "cell_type": "markdown",
      "metadata": {
        "id": "O3SGX3oKxNfP"
      },
      "source": [
        "### Load the Best Model\n",
        "\n",
        "Now we can load the best model. What we saved in `best_model.pth` is only the model parameters. So first we need to load an initialized (not trained) model and then load the trained model parameters in there."
      ]
    },
    {
      "cell_type": "code",
      "metadata": {
        "id": "XovWZ9dteQGz"
      },
      "source": [
        "model = Model()\n",
        "model = model.to(device)                             # load an initialized model\n",
        "model.load_state_dict(torch.load(best_model_path))   # load model parameters to the initialized model"
      ],
      "execution_count": null,
      "outputs": []
    },
    {
      "cell_type": "markdown",
      "metadata": {
        "id": "5s6cASjZdghi"
      },
      "source": [
        "### Test Accuracy\n",
        "\n",
        "We should check accuracy of the model for all of the test data."
      ]
    },
    {
      "cell_type": "code",
      "metadata": {
        "id": "Y-0SvVqUp92Z"
      },
      "source": [
        "test_accuracy = 0\n",
        "\n",
        "y_test_all = np.array([])\n",
        "p_label_all = np.array([])\n",
        "\n",
        "with torch.no_grad():    # disable autograd\n",
        "    model.eval()         # set model to evaluation mode\n",
        "\n",
        "    for x_batch, y_batch in test_loader:    # take mini batch data from train_loader\n",
        "        x_batch = x_batch.to(device)        # transfer x_batch to gpu\n",
        "        y_batch = y_batch.to(device)        # transfer y_batch to gpu\n",
        "        p_batch = model(x_batch)            # do prediction\n",
        "\n",
        "        p_batch_label = torch.argmax(p_batch, dim=1)       # convert p_batch vector to p_batch_label\n",
        "        test_accuracy += (p_batch_label == y_batch).sum()  # count up number of correct predictions\n",
        "\n",
        "        y_test_all = np.append(y_test_all, y_batch.to(\"cpu\").numpy())          # append y_batch in y_test_all\n",
        "        p_label_all = np.append(p_label_all, p_batch_label.to(\"cpu\").numpy())  # append p_batch_label in p_label_all\n",
        "\n",
        "test_accuracy = test_accuracy/len(test_dataset)      # determine accuracy for test data\n",
        "print(f\"Test Accuracy = {test_accuracy:.3f}\")"
      ],
      "execution_count": null,
      "outputs": []
    },
    {
      "cell_type": "markdown",
      "metadata": {
        "id": "fgk35ZoQeXHJ"
      },
      "source": [
        "### Confusion Matrix\n",
        "\n",
        "Then let's check the confusion matrix."
      ]
    },
    {
      "cell_type": "code",
      "metadata": {
        "id": "MIqnDbffcVM6"
      },
      "source": [
        "from sklearn.metrics import confusion_matrix\n",
        "\n",
        "cmx = confusion_matrix(y_test_all, p_label_all)\n",
        "\n",
        "cmx_pct = np.zeros(cmx.shape)\n",
        "\n",
        "for i in range(cmx.shape[0]):\n",
        "    for j in range(cmx.shape[1]):\n",
        "        cmx_pct[i, j] = cmx[i, j]/cmx[i, :].sum()\n",
        "\n",
        "plt.figure(figsize=(10,6))\n",
        "labels = classnames.values()\n",
        "\n",
        "sns.heatmap(cmx_pct, annot=True, fmt=\".2f\", cmap=\"Blues\", vmin=0, vmax=1,\n",
        "            xticklabels=classnames.values(), yticklabels=classnames.values(), square=True)\n",
        "\n",
        "plt.ylabel(\"True\")\n",
        "plt.xlabel(\"Pred\")\n",
        "plt.title(\"confusion matrix\")"
      ],
      "execution_count": null,
      "outputs": []
    },
    {
      "cell_type": "markdown",
      "metadata": {
        "id": "wPvNhkGzK2QY"
      },
      "source": [
        "### Predictions for Test Data\n",
        "\n",
        "Let's see predictions for some test data."
      ]
    },
    {
      "cell_type": "code",
      "metadata": {
        "id": "h7payXveIf_Y"
      },
      "source": [
        "plt.figure(figsize=(15, 10))\n",
        "\n",
        "for i in range(50):\n",
        "    image, _ = test_dataset[i]\n",
        "    image = np.transpose(image, (1,2,0))\n",
        "\n",
        "    # if data standardization was applied, uncomment following three lines\n",
        "    image[:, :, 0] = image[:, :, 0]*stds[0]+means[0]\n",
        "    image[:, :, 1] = image[:, :, 1]*stds[1]+means[1]\n",
        "    image[:, :, 2] = image[:, :, 2]*stds[2]+means[2]\n",
        "\n",
        "    plt.subplot(5, 10, i+1)\n",
        "    plt.imshow(image)\n",
        "\n",
        "    true_class = classnames[y_test_all[i]]\n",
        "    pred_class = classnames[p_label_all[i]]\n",
        "    if true_class == pred_class:\n",
        "        color = \"green\"\n",
        "    else:\n",
        "        color = \"red\"\n",
        "    plt.title(f\"T={true_class}\\nP={pred_class}\", color=color)\n",
        "    plt.axis(\"off\")"
      ],
      "execution_count": null,
      "outputs": []
    },
    {
      "cell_type": "markdown",
      "metadata": {
        "id": "wke7cdi2fVBZ"
      },
      "source": [
        "## Conclusion\n",
        "That's it for this week. Now you can try to improve the test accuracy by changing data augmentation methods, model architecture, training epochs and so on..."
      ]
    }
  ]
}