{
  "cells": [
    {
      "cell_type": "markdown",
      "metadata": {
        "id": "view-in-github",
        "colab_type": "text"
      },
      "source": [
        "<a href=\"https://colab.research.google.com/github/naoya1110/ai_robotics_lab_2025_hands_on/blob/main/Week07_Transfer_Learning.ipynb\" target=\"_parent\"><img src=\"https://colab.research.google.com/assets/colab-badge.svg\" alt=\"Open In Colab\"/></a>"
      ]
    },
    {
      "cell_type": "markdown",
      "metadata": {
        "id": "tPVcuaqFL670"
      },
      "source": [
        "# Transfer Learning"
      ]
    },
    {
      "cell_type": "markdown",
      "metadata": {
        "id": "vPlzxYAbJQmc"
      },
      "source": [
        "## Introduction"
      ]
    },
    {
      "cell_type": "markdown",
      "metadata": {
        "id": "lVMYxJLl5MiQ"
      },
      "source": [
        "Transfer learning is a powerful technique in deep learning that leverages pretrained models (pretrained weights) to solve new tasks. By reusing learned features and weights, it reduces training time and data requirements. In this notebook, we explore transfer learning of one of popular CNN models called VGG16 pretrained with the ImageNet dataset."
      ]
    },
    {
      "cell_type": "markdown",
      "source": [
        "### ImageNet dataset\n",
        "The ImageNet dataset is one of the most famous datasets for image classification tasks. The dataset consists of more than 1.2 million images with 1,000 categories that were manually labeled by humans. It is often used for benchmarking the models' performance.\n",
        "\n",
        "ImageNet Dataset https://www.image-net.org/update-mar-11-2021.php\n",
        "\n",
        "PyTorch provides popular image classification models pretrained with the ImageNet dataset.\n",
        "\n",
        "Models and Pretrained Weights https://docs.pytorch.org/vision/main/models.html"
      ],
      "metadata": {
        "id": "OJUw7CKhYbUG"
      }
    },
    {
      "cell_type": "markdown",
      "metadata": {
        "id": "VYw3uTxyQMFq"
      },
      "source": [
        "### GPU\n",
        "\n",
        "We will use a GPU to train CNN models. Please make sure your runtime type is GPU (cuda)."
      ]
    },
    {
      "cell_type": "code",
      "execution_count": null,
      "metadata": {
        "id": "LlOLjP7qjakr"
      },
      "outputs": [],
      "source": [
        "import torch\n",
        "\n",
        "if torch.cuda.is_available():\n",
        "    device = \"cuda\"\n",
        "else:\n",
        "    device = \"cpu\"\n",
        "\n",
        "print(device)"
      ]
    },
    {
      "cell_type": "code",
      "execution_count": null,
      "metadata": {
        "id": "S0GcP4bqklBa"
      },
      "outputs": [],
      "source": [
        "print(torch.cuda.get_device_name(0))\n",
        "print(torch.cuda.get_device_properties(0))"
      ]
    },
    {
      "cell_type": "markdown",
      "metadata": {
        "id": "4r6qw_6s_hyU"
      },
      "source": [
        "### General Packages\n",
        "\n",
        "Let's import general Python packages."
      ]
    },
    {
      "cell_type": "code",
      "execution_count": null,
      "metadata": {
        "id": "uBE01BMv7DVI"
      },
      "outputs": [],
      "source": [
        "import numpy as np\n",
        "import matplotlib.pyplot as plt\n",
        "import seaborn as sns\n",
        "from tqdm.notebook import tqdm"
      ]
    },
    {
      "cell_type": "markdown",
      "metadata": {
        "id": "ZX-bp6XjJSdL"
      },
      "source": [
        "## Data Preparation"
      ]
    },
    {
      "cell_type": "markdown",
      "metadata": {
        "id": "YKruW7wm7Dtg"
      },
      "source": [
        "### CIFAR10\n",
        "\n",
        "We will use the CIFAR10 dataset with the standardization and augmentation techniques. Data preparation process is almost same as last week. The values of means and stds of the ImageNet dataset `means = (0.485, 0.456, 0.406), stds = (0.229, 0.224, 0.225)` are used for the standardization because we will use the VGG16 pretrained with the ImageNet dataset."
      ]
    },
    {
      "cell_type": "code",
      "execution_count": null,
      "metadata": {
        "id": "rbkcR_cbdqwz"
      },
      "outputs": [],
      "source": [
        "from torchvision.datasets import CIFAR10\n",
        "from torchvision.transforms import v2\n",
        "\n",
        "# means and stds for ImageNet dataset\n",
        "means = (0.485, 0.456, 0.406)\n",
        "stds = (0.229, 0.224, 0.225)\n",
        "\n",
        "classnames = {0:\"plane\",\n",
        "              1:\"car\",\n",
        "              2:\"bird\",\n",
        "              3:\"cat\",\n",
        "              4:\"deer\",\n",
        "              5:\"dog\",\n",
        "              6:\"frog\",\n",
        "              7:\"horse\",\n",
        "              8:\"ship\",\n",
        "              9:\"truck\"}\n",
        "\n",
        "train_dataset = CIFAR10(root=\"cifar10\",\n",
        "                        train=True,\n",
        "                        download=True,\n",
        "                        transform=v2.Compose([\n",
        "                            v2.ToTensor(),               # convert to torch.tensor\n",
        "                            v2.Normalize(means, stds),   # standardization\n",
        "                            v2.Resize(128),\n",
        "\n",
        "                            # data augmentation\n",
        "                            v2.RandomHorizontalFlip(p=0.5),\n",
        "                            # v2.RandomVerticalFlip(p=0.5),\n",
        "                            v2.RandomRotation(degrees=10),\n",
        "                            # v2.RandomPerspective(distortion_scale=0.3, p=0.5)\n",
        "                            ])\n",
        "                        )\n",
        "\n",
        "test_dataset = CIFAR10(root=\"cifar10\",\n",
        "                        train=False,\n",
        "                        download=True,\n",
        "                        transform=v2.Compose([\n",
        "                            v2.ToTensor(),                # convert to torch.tensor\n",
        "                            v2.Normalize(means, stds),    # standardization\n",
        "                            v2.Resize(128),\n",
        "                            ])\n",
        "                        )"
      ]
    },
    {
      "cell_type": "markdown",
      "metadata": {
        "id": "irrugvHJ4yRb"
      },
      "source": [
        "### DataLoader\n",
        "\n",
        "Then we create `DataLoader` objects for feeding data to the model. This is exactly same as we did with Iris dataset."
      ]
    },
    {
      "cell_type": "code",
      "execution_count": null,
      "metadata": {
        "id": "11_M7Y70CrX2"
      },
      "outputs": [],
      "source": [
        "from torch.utils.data import DataLoader\n",
        "\n",
        "train_loader = DataLoader(train_dataset, batch_size=200, shuffle=True)\n",
        "test_loader = DataLoader(test_dataset, batch_size=200, shuffle=False)"
      ]
    },
    {
      "cell_type": "markdown",
      "metadata": {
        "id": "Rfk-lz-g60Tc"
      },
      "source": [
        "That's it for data preparation!"
      ]
    },
    {
      "cell_type": "markdown",
      "metadata": {
        "id": "QhtajLTTNmSx"
      },
      "source": [
        "## Model Building"
      ]
    },
    {
      "cell_type": "markdown",
      "metadata": {
        "id": "Nng9zpwLDdgm"
      },
      "source": [
        "### Transfer Learning (Re-train Pretrained Model)"
      ]
    },
    {
      "cell_type": "markdown",
      "metadata": {
        "id": "Ux9wBWEzER1Q"
      },
      "source": [
        "#### Load Pretrained Model\n",
        "The pretrained models can be downloaded using `torchvison.models`. We will use a model called VGG16 which is one of the well-known image classification models. By setting `models.vgg16(weights=\"IMAGENET1K_V1\")`, we can load the VGG16 model pretrained with the dataset called ImageNet. ImageNet dataset consists of more than 1.2 million images with 1000 categories.\n",
        "\n",
        "VGG16 Original Paper https://arxiv.org/abs/1409.1556\n",
        "\n",
        "ImageNet Dataset https://www.image-net.org/update-mar-11-2021.php"
      ]
    },
    {
      "cell_type": "code",
      "execution_count": null,
      "metadata": {
        "id": "jP3D9Qw0EO4U"
      },
      "outputs": [],
      "source": [
        "import torchvision.models as models\n",
        "\n",
        "model = models.vgg16(weights=\"IMAGENET1K_V1\")\n",
        "print(model)"
      ]
    },
    {
      "cell_type": "markdown",
      "metadata": {
        "id": "iCdnI0gaEFJS"
      },
      "source": [
        "![image.png](data:image/png;base64,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)"
      ]
    },
    {
      "cell_type": "markdown",
      "source": [
        "Note that the transfer learning is not allowed to be used in our Image Classification Competition. However, you can still use popular models like VGG and ResNet etc without loading pretrained weights. Then you can train them from scratch."
      ],
      "metadata": {
        "id": "EFWCBOYcVvD9"
      }
    },
    {
      "cell_type": "code",
      "source": [
        "vgg16 = models.vgg16(weights=None)\n",
        "resnet50 = models.resnet50(weights=None)"
      ],
      "metadata": {
        "id": "OelcDv-wWWbJ"
      },
      "execution_count": null,
      "outputs": []
    },
    {
      "cell_type": "markdown",
      "metadata": {
        "id": "wLGWzEYVvA4v"
      },
      "source": [
        "#### Replace Output Layer\n",
        "The number of output neurons of the pretrained VGG16 model is 1000. This is because this model is designed for classifying 1000 categories of images."
      ]
    },
    {
      "cell_type": "code",
      "execution_count": null,
      "metadata": {
        "id": "SEkwjkoRMGQS"
      },
      "outputs": [],
      "source": [
        "model.classifier[6]"
      ]
    },
    {
      "cell_type": "markdown",
      "metadata": {
        "id": "XWxQCI0nMRip"
      },
      "source": [
        "Since we are going to classify CIFAR10 dataset, the number of output neurons needs to be 10. Therefore we have to replace the last layer."
      ]
    },
    {
      "cell_type": "code",
      "execution_count": null,
      "metadata": {
        "id": "Dtci55P-DNMc"
      },
      "outputs": [],
      "source": [
        "import torch.nn as nn\n",
        "model.classifier[6] = nn.Linear(4096, 10)   # replace the last layer\n",
        "print(model)"
      ]
    },
    {
      "cell_type": "code",
      "execution_count": null,
      "metadata": {
        "id": "fiCd9Q-bn-It"
      },
      "outputs": [],
      "source": [
        "! pip install torchinfo\n",
        "from torchinfo import summary\n",
        "\n",
        "for x_batch, _ in train_loader:\n",
        "    break\n",
        "\n",
        "input_shape = x_batch.shape\n",
        "print(input_shape)\n",
        "\n",
        "summary(model, input_shape)"
      ]
    },
    {
      "cell_type": "markdown",
      "metadata": {
        "id": "twgpngGF2AiA"
      },
      "source": [
        "#### Freeze Parameters\n",
        "The pretrained VGG16 model is well-trained with the ImageNet dataset, therefore the model parameters (weights and biases) are already good for general image classification tasks. In such case, it might be better to keep (freeze) most of the parameters in the model and re-train only a few layers of the model with the new dataset.\n",
        "\n",
        "In order to do so, we make all of the parameters in the model to be frozen by setting `requires_grad=False`."
      ]
    },
    {
      "cell_type": "code",
      "execution_count": null,
      "metadata": {
        "id": "mgBaZ8gcCPfV"
      },
      "outputs": [],
      "source": [
        "for param in model.parameters():\n",
        "    param.requires_grad = False"
      ]
    },
    {
      "cell_type": "markdown",
      "metadata": {
        "id": "yQyvz8b5w5__"
      },
      "source": [
        "Then we set `requires_grad=Ture` to some specific layers so that they will be trained.\n",
        "\n",
        "For example if we want to train only the parameters in the last layer (`model.classfier[6]`, 6th layer in the classifier part), we can do"
      ]
    },
    {
      "cell_type": "code",
      "execution_count": null,
      "metadata": {
        "id": "kY6Q1fZGw5V_"
      },
      "outputs": [],
      "source": [
        "model.classifier[6].weight.requires_grad = True\n",
        "model.classifier[6].bias.requires_grad = True"
      ]
    },
    {
      "cell_type": "markdown",
      "metadata": {
        "id": "6QnGLjAiDWA_"
      },
      "source": [
        "If we want to train other layers, we can do like"
      ]
    },
    {
      "cell_type": "code",
      "execution_count": null,
      "metadata": {
        "id": "inDRM3lDDVh_"
      },
      "outputs": [],
      "source": [
        "# 0th layer in the classifier part\n",
        "# model.classifier[0].weight.requires_grad = True\n",
        "# model.classifier[0].bias.requires_grad = True\n",
        "\n",
        "# 3rd layer in the classifier part\n",
        "# model.classifier[3].weight.requires_grad = True\n",
        "# model.classifier[3].bias.requires_grad = True"
      ]
    },
    {
      "cell_type": "markdown",
      "metadata": {
        "id": "kcvtl5sK95f7"
      },
      "source": [
        "#### torchinfo\n",
        "Let's see how the data shape changes in the model."
      ]
    },
    {
      "cell_type": "code",
      "execution_count": null,
      "metadata": {
        "id": "oEYh5cP0xFqY"
      },
      "outputs": [],
      "source": [
        "for x_batch, _ in train_loader:\n",
        "    break\n",
        "\n",
        "input_shape = x_batch.shape\n",
        "print(input_shape)\n",
        "\n",
        "summary(model, input_shape)"
      ]
    },
    {
      "cell_type": "markdown",
      "metadata": {
        "id": "aAlXGXFDRsjw"
      },
      "source": [
        "## Training"
      ]
    },
    {
      "cell_type": "markdown",
      "metadata": {
        "id": "tXO7oPT_PKN4"
      },
      "source": [
        "### Loss Function\n",
        "\n",
        "We use the cross-entropy loss as the loss function since this is a classification task."
      ]
    },
    {
      "cell_type": "code",
      "execution_count": null,
      "metadata": {
        "id": "lU5T3gRuUHtQ"
      },
      "outputs": [],
      "source": [
        "loss_func = nn.CrossEntropyLoss()"
      ]
    },
    {
      "cell_type": "markdown",
      "metadata": {
        "id": "52Qod7jdQusX"
      },
      "source": [
        "### Optimizer\n",
        "\n",
        "We use the Adam optimizer."
      ]
    },
    {
      "cell_type": "code",
      "execution_count": null,
      "metadata": {
        "id": "wZWtxHVoUL44"
      },
      "outputs": [],
      "source": [
        "import torch.optim as optim\n",
        "\n",
        "optimizer = optim.Adam(model.parameters(), lr=1E-3)"
      ]
    },
    {
      "cell_type": "markdown",
      "metadata": {
        "id": "ZcD2vT1zlaX2"
      },
      "source": [
        "### L1/L2 Regularization"
      ]
    },
    {
      "cell_type": "markdown",
      "metadata": {
        "id": "0BukdTxW5MiX"
      },
      "source": [
        "We define the fuctions to calculate L1 and L2 norms."
      ]
    },
    {
      "cell_type": "code",
      "execution_count": null,
      "metadata": {
        "id": "cKMpDoQopAuV"
      },
      "outputs": [],
      "source": [
        "def get_l1_norm(model=model):\n",
        "    l1_norm = 0\n",
        "    for p in model.parameters():\n",
        "        l1_norm += p.abs().sum()\n",
        "    return l1_norm\n",
        "\n",
        "print(\"L1 Norm Penalty:\", get_l1_norm(model).item())"
      ]
    },
    {
      "cell_type": "code",
      "execution_count": null,
      "metadata": {
        "id": "78hKeGH4oTbn"
      },
      "outputs": [],
      "source": [
        "def get_l2_norm(model=model):\n",
        "    l2_norm = 0\n",
        "    for p in model.parameters():\n",
        "        l2_norm += p.pow(2).sum()\n",
        "    return l2_norm\n",
        "\n",
        "print(\"L2 Norm Penalty:\", get_l2_norm(model).item())"
      ]
    },
    {
      "cell_type": "markdown",
      "metadata": {
        "id": "MCzH5589Rn-7"
      },
      "source": [
        "### Training Loop\n",
        "\n",
        "Now we can train the model."
      ]
    },
    {
      "cell_type": "code",
      "execution_count": null,
      "metadata": {
        "id": "B9ONh4giaSQD"
      },
      "outputs": [],
      "source": [
        "model = models.vgg16(weights=\"IMAGENET1K_V1\")    # load pretrained model\n",
        "# model = models.vgg16(weights=None)             # load model without pretrained weights\n",
        "model.classifier[6] = nn.Linear(4096, 10)        # replace the last Linear layer\n",
        "\n",
        "# freeze all parameters\n",
        "for param in model.parameters():\n",
        "    param.requires_grad = False\n",
        "\n",
        "# enable training for the specific layers\n",
        "# model.classifier[0].weight.requires_grad = True\n",
        "# model.classifier[0].bias.requires_grad = True\n",
        "model.classifier[3].weight.requires_grad = True\n",
        "model.classifier[3].bias.requires_grad = True\n",
        "model.classifier[6].weight.requires_grad = True\n",
        "model.classifier[6].bias.requires_grad = True\n",
        "\n",
        "print(summary(model, input_shape))\n",
        "\n",
        "model = model.to(device)                               # load model onto GPU\n",
        "loss_func = nn.CrossEntropyLoss()                      # set loss function\n",
        "optimizer = optim.Adam(model.parameters(), lr=1E-4)    # set optimizer\n",
        "epochs = 10\n",
        "\n",
        "best_model_path = 'best_model.pth'\n",
        "best_accuracy = 0.0\n",
        "\n",
        "# create empty lists for saving metrics during training\n",
        "train_loss_list = []\n",
        "train_accuracy_list = []\n",
        "test_loss_list = []\n",
        "test_accuracy_list = []\n",
        "\n",
        "for epoch in range(epochs):\n",
        "    print(\"-----------------------------\")\n",
        "    print(f\"Epoch {epoch+1}/{epochs}\")\n",
        "\n",
        "    # initialize metrics\n",
        "    train_correct_count = 0\n",
        "    train_accuracy = 0\n",
        "    train_loss = 0\n",
        "    test_correct_count = 0\n",
        "    test_accuracy = 0\n",
        "    test_loss = 0\n",
        "\n",
        "    #--- Training Phase ---#\n",
        "    model.train()    # set model to training mode\n",
        "\n",
        "    pbar = tqdm(train_loader)\n",
        "    pbar.set_description(\"Train\")\n",
        "\n",
        "    for x_batch, y_batch in pbar:      # take mini batch data from train_loader\n",
        "\n",
        "        x_batch = x_batch.to(device)     # load x_batch data on GPU\n",
        "        y_batch = y_batch.to(device)     # load y_batch data on GPU\n",
        "\n",
        "        optimizer.zero_grad()                  # reset gradients to 0\n",
        "        p_batch = model(x_batch)               # do prediction\n",
        "        loss = loss_func(p_batch, y_batch)     # measure loss\n",
        "\n",
        "        #--- L1/L2 regularizaiton ---#\n",
        "        # alpha = 0.001\n",
        "        # loss = loss + alpha * get_l2_norm(model)    # add L2 penalty\n",
        "        # loss = loss + alpha * get_l1_norm(model)    # add L1 penalty\n",
        "        #----------------------------#\n",
        "\n",
        "        loss.backward()                        # calculate gradients\n",
        "        optimizer.step()                       # update model parameters\n",
        "\n",
        "        train_loss += loss.item()                                # accumulate loss value\n",
        "        p_batch_label = torch.argmax(p_batch, dim=1)             # convert p_batch vector to p_batch_label\n",
        "        train_correct_count += (p_batch_label == y_batch).sum()  # count up number of correct predictions\n",
        "\n",
        "        pbar.set_postfix({\"accuracy\":f\"{(p_batch_label == y_batch).sum()/len(x_batch):.4f}\", \"loss\": f\"{loss.item():.4f}\"})\n",
        "    #----------------------#\n",
        "\n",
        "    #--- Evaluation Phase ---#\n",
        "    with torch.no_grad():   # disable autograd for saving memory usage\n",
        "        model.eval()        # set model to evaluation mode\n",
        "\n",
        "        pbar = tqdm(test_loader)\n",
        "        pbar.set_description(\"Test\")\n",
        "\n",
        "        for x_batch, y_batch in pbar:   # take mini batch data from test_loader\n",
        "\n",
        "            x_batch = x_batch.to(device)     # load x_batch data on GPU\n",
        "            y_batch = y_batch.to(device)     # load y_batch data on GPU\n",
        "\n",
        "            p_batch = model(x_batch)              # do prediction\n",
        "            loss = loss_func(p_batch, y_batch)    # measure loss\n",
        "\n",
        "            #--- L1/L2 regularizaiton ---#\n",
        "            # loss = loss + alpha * get_l2_norm(model)    # add L2 penalty\n",
        "            # loss = loss + alpha * get_l1_norm(model)    # add L1 penalty\n",
        "            #----------------------------#\n",
        "\n",
        "            test_loss += loss.item()                                # add up loss value\n",
        "\n",
        "            p_batch_label = torch.argmax(p_batch, dim=1)            # convert p_batch vector to p_batch_label\n",
        "            test_correct_count += (p_batch_label == y_batch).sum()  # count up number of correct predictions\n",
        "\n",
        "            pbar.set_postfix({\"accuracy\":f\"{(p_batch_label == y_batch).sum()/len(x_batch):.4f}\", \"loss\": f\"{loss.item():.4f}\"})\n",
        "    #------------------------#\n",
        "\n",
        "    train_accuracy = train_correct_count.item()/len(train_dataset)   # determine accuracy for training data\n",
        "    test_accuracy = test_correct_count.item()/len(test_dataset)      # determine accuracy for test data\n",
        "    train_loss = train_loss/len(train_loader)                 # determine loss for training data\n",
        "    test_loss = test_loss/len(test_loader)                    # determine loss for test data\n",
        "\n",
        "    # show and store metrics\n",
        "    print(f\"Train: Accuracy={train_accuracy:.3f} Loss={train_loss:.3f}, Test: Accuracy={test_accuracy:.3f} Loss={test_loss:.3f}\")\n",
        "    train_accuracy_list.append(train_accuracy)\n",
        "    train_loss_list.append(train_loss)\n",
        "    test_accuracy_list.append(test_accuracy)\n",
        "    test_loss_list.append(test_loss)\n",
        "\n",
        "    # save the model if test accuracy is better than before\n",
        "    if test_accuracy > best_accuracy:\n",
        "        torch.save(model.state_dict(), best_model_path)\n",
        "        print(f\"Test accuracy improved from {best_accuracy:.3f} to {test_accuracy:.3f}\")\n",
        "        print(f\"Model saved at {best_model_path}\")\n",
        "        best_accuracy = test_accuracy"
      ]
    },
    {
      "cell_type": "markdown",
      "metadata": {
        "id": "77tsvYTj_MjF"
      },
      "source": [
        "### Learning Curves\n",
        "\n",
        "Let's visualize the accuracy and the loss curves for train and test data."
      ]
    },
    {
      "cell_type": "code",
      "execution_count": null,
      "metadata": {
        "id": "r41u3qmIig-t"
      },
      "outputs": [],
      "source": [
        "plt.figure(figsize=(5,3))\n",
        "plt.rcParams[\"font.size\"]=10\n",
        "plt.plot(np.arange(epochs)+1, train_accuracy_list, label=\"train\")\n",
        "plt.plot(np.arange(epochs)+1, test_accuracy_list, label=\"test\")\n",
        "plt.xlabel(\"Epoch\")\n",
        "plt.ylabel(\"Accuracy\")\n",
        "plt.grid()\n",
        "plt.legend()"
      ]
    },
    {
      "cell_type": "code",
      "execution_count": null,
      "metadata": {
        "id": "gEfROle1leF7"
      },
      "outputs": [],
      "source": [
        "plt.figure(figsize=(5,3))\n",
        "plt.rcParams[\"font.size\"]=10\n",
        "plt.plot(np.arange(epochs)+1, train_loss_list, label=\"train\")\n",
        "plt.plot(np.arange(epochs)+1, test_loss_list, label=\"test\")\n",
        "plt.xlabel(\"Epoch\")\n",
        "plt.ylabel(\"Loss\")\n",
        "plt.grid()\n",
        "plt.legend()"
      ]
    },
    {
      "cell_type": "markdown",
      "metadata": {
        "id": "JXu1FpcD6fod"
      },
      "source": [
        "## Evaluation"
      ]
    },
    {
      "cell_type": "markdown",
      "metadata": {
        "id": "O3SGX3oKxNfP"
      },
      "source": [
        "### Load the Best Model\n",
        "\n",
        "Now we can load the best model. What we saved in `best_model.pth` is only the model parameters. So first we need to load an initialized (not trained) model and then load the trained model parameters in there."
      ]
    },
    {
      "cell_type": "code",
      "execution_count": null,
      "metadata": {
        "id": "XovWZ9dteQGz"
      },
      "outputs": [],
      "source": [
        "model = models.vgg16(weights=None)            # load pretrained model\n",
        "model.classifier[6] = nn.Linear(4096, 10)        # replace the last Linear layer\n",
        "\n",
        "model = model.to(device)                           # load an initialized model\n",
        "model.load_state_dict(torch.load(best_model_path))   # load model parameters to the initialized model"
      ]
    },
    {
      "cell_type": "markdown",
      "metadata": {
        "id": "5s6cASjZdghi"
      },
      "source": [
        "### Test Accuracy\n",
        "\n",
        "We should check accuracy of the model for all of the test data."
      ]
    },
    {
      "cell_type": "code",
      "execution_count": null,
      "metadata": {
        "id": "Y-0SvVqUp92Z"
      },
      "outputs": [],
      "source": [
        "test_accuracy = 0\n",
        "\n",
        "y_test_all = np.array([])\n",
        "p_label_all = np.array([])\n",
        "\n",
        "with torch.no_grad():    # disable autograd\n",
        "    model.eval()         # set model to evaluation mode\n",
        "\n",
        "    for x_batch, y_batch in test_loader:    # take mini batch data from train_loader\n",
        "        x_batch = x_batch.to(device)        # transfer x_batch to gpu\n",
        "        y_batch = y_batch.to(device)        # transfer y_batch to gpu\n",
        "        p_batch = model(x_batch)            # do prediction\n",
        "\n",
        "        p_batch_label = torch.argmax(p_batch, dim=1)       # convert p_batch vector to p_batch_label\n",
        "        test_accuracy += (p_batch_label == y_batch).sum()  # count up number of correct predictions\n",
        "\n",
        "        y_test_all = np.append(y_test_all, y_batch.to(\"cpu\").numpy())          # append y_batch in y_test_all\n",
        "        p_label_all = np.append(p_label_all, p_batch_label.to(\"cpu\").numpy())  # append p_batch_label in p_label_all\n",
        "\n",
        "test_accuracy = test_accuracy/len(test_dataset)      # determine accuracy for test data\n",
        "print(f\"Test Accuracy = {test_accuracy:.3f}\")"
      ]
    },
    {
      "cell_type": "markdown",
      "metadata": {
        "id": "fgk35ZoQeXHJ"
      },
      "source": [
        "### Confusion Matrix\n",
        "\n",
        "Then let's check the confusion matrix."
      ]
    },
    {
      "cell_type": "code",
      "execution_count": null,
      "metadata": {
        "id": "MIqnDbffcVM6"
      },
      "outputs": [],
      "source": [
        "from sklearn.metrics import confusion_matrix\n",
        "\n",
        "cmx = confusion_matrix(y_test_all, p_label_all)\n",
        "\n",
        "cmx_pct = np.zeros(cmx.shape)\n",
        "\n",
        "for i in range(cmx.shape[0]):\n",
        "    for j in range(cmx.shape[1]):\n",
        "        cmx_pct[i, j] = cmx[i, j]/cmx[i, :].sum()\n",
        "\n",
        "plt.figure(figsize=(10,6))\n",
        "labels = classnames.values()\n",
        "\n",
        "sns.heatmap(cmx_pct, annot=True, fmt=\".2f\", cmap=\"Blues\", vmin=0, vmax=1,\n",
        "            xticklabels=classnames.values(), yticklabels=classnames.values(), square=True)\n",
        "\n",
        "plt.ylabel(\"True\")\n",
        "plt.xlabel(\"Pred\")\n",
        "plt.title(\"confusion matrix\")"
      ]
    },
    {
      "cell_type": "markdown",
      "metadata": {
        "id": "wPvNhkGzK2QY"
      },
      "source": [
        "### Predictions for Test Data\n",
        "\n",
        "Let's see predictions for some test data."
      ]
    },
    {
      "cell_type": "code",
      "execution_count": null,
      "metadata": {
        "id": "h7payXveIf_Y"
      },
      "outputs": [],
      "source": [
        "plt.figure(figsize=(15, 10))\n",
        "\n",
        "for i in range(50):\n",
        "    image, _ = test_dataset[i]\n",
        "    image = np.transpose(image, (1,2,0))\n",
        "\n",
        "    # if data standardization was applied, uncomment following three lines\n",
        "    image[:, :, 0] = image[:, :, 0]*stds[0]+means[0]\n",
        "    image[:, :, 1] = image[:, :, 1]*stds[1]+means[1]\n",
        "    image[:, :, 2] = image[:, :, 2]*stds[2]+means[2]\n",
        "\n",
        "    plt.subplot(5, 10, i+1)\n",
        "    plt.imshow(image)\n",
        "\n",
        "    true_class = classnames[y_test_all[i]]\n",
        "    pred_class = classnames[p_label_all[i]]\n",
        "    if true_class == pred_class:\n",
        "        color = \"green\"\n",
        "    else:\n",
        "        color = \"red\"\n",
        "    plt.title(f\"T={true_class}\\nP={pred_class}\", color=color)\n",
        "    plt.axis(\"off\")"
      ]
    },
    {
      "cell_type": "markdown",
      "metadata": {
        "id": "wke7cdi2fVBZ"
      },
      "source": [
        "## Conclusion\n",
        "Now you can try to improve the test accuracy by changing trainable layers, training epochs, learning rates and so on. You can even try other pre-trained models.\n"
      ]
    }
  ],
  "metadata": {
    "accelerator": "GPU",
    "colab": {
      "gpuType": "T4",
      "provenance": [],
      "toc_visible": true,
      "include_colab_link": true
    },
    "kernelspec": {
      "display_name": "Python 3",
      "name": "python3"
    },
    "language_info": {
      "codemirror_mode": {
        "name": "ipython",
        "version": 3
      },
      "file_extension": ".py",
      "mimetype": "text/x-python",
      "name": "python",
      "nbconvert_exporter": "python",
      "pygments_lexer": "ipython3",
      "version": "3.10.12"
    }
  },
  "nbformat": 4,
  "nbformat_minor": 0
}